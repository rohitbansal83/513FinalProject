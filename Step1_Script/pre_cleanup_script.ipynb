{
 "cells": [
  {
   "cell_type": "code",
   "execution_count": 92,
   "metadata": {},
   "outputs": [
    {
     "name": "stdout",
     "output_type": "stream",
     "text": [
      "<class 'pandas.core.frame.DataFrame'>\n",
      "RangeIndex: 17545 entries, 0 to 17544\n",
      "Data columns (total 20 columns):\n",
      "id                      17545 non-null int64\n",
      "name                    17545 non-null object\n",
      "sponsor                 17545 non-null object\n",
      "event                   17545 non-null object\n",
      "venue                   17545 non-null object\n",
      "place                   17545 non-null object\n",
      "physical_description    17545 non-null object\n",
      "occasion                17545 non-null object\n",
      "notes                   17545 non-null object\n",
      "call_number             17545 non-null object\n",
      "keywords                17545 non-null object\n",
      "language                17545 non-null object\n",
      "date                    17545 non-null object\n",
      "location                17545 non-null object\n",
      "location_type           17545 non-null object\n",
      "currency                17545 non-null object\n",
      "currency_symbol         17545 non-null object\n",
      "status                  17545 non-null object\n",
      "page_count              17545 non-null int64\n",
      "dish_count              17545 non-null int64\n",
      "dtypes: int64(3), object(17)\n",
      "memory usage: 2.7+ MB\n"
     ]
    },
    {
     "data": {
      "text/plain": [
       "\"\\nmenu.name.unique()\\n\\nlen(menu.name.unique())\\n\\nunique_Menu_names = menu.groupby('name')\\ns = unique_Menu_names.size()\\nsorted_unique_Menu_names = s.sort_values(ascending=False)\\nsorted_unique_Menu_names\\n\""
      ]
     },
     "execution_count": 92,
     "metadata": {},
     "output_type": "execute_result"
    },
    {
     "data": {
      "text/plain": [
       "\"\\nmenu.name.unique()\\n\\nlen(menu.name.unique())\\n\\nunique_Menu_names = menu.groupby('name')\\ns = unique_Menu_names.size()\\nsorted_unique_Menu_names = s.sort_values(ascending=False)\\nsorted_unique_Menu_names\\n\""
      ]
     },
     "execution_count": 92,
     "metadata": {},
     "output_type": "execute_result"
    },
    {
     "data": {
      "text/plain": [
       "\"\\nmenu.sponsor.unique()\\n\\nlen(menu.sponsor.unique())\\n\\nunique_sponsor_names = menu.groupby('sponsor')\\ns = unique_sponsor_names.size()\\nsorted_unique_sponsor_names = s.sort_values(ascending=False)\\nsorted_unique_sponsor_names\\n\""
      ]
     },
     "execution_count": 92,
     "metadata": {},
     "output_type": "execute_result"
    },
    {
     "data": {
      "text/plain": [
       "\"\\nmenu.sponsor.unique()\\n\\nlen(menu.sponsor.unique())\\n\\nunique_sponsor_names = menu.groupby('sponsor')\\ns = unique_sponsor_names.size()\\nsorted_unique_sponsor_names = s.sort_values(ascending=False)\\nsorted_unique_sponsor_names\\n\""
      ]
     },
     "execution_count": 92,
     "metadata": {},
     "output_type": "execute_result"
    },
    {
     "data": {
      "text/plain": [
       "\"\\nmenu.event.unique()\\n\\nlen(menu.event.unique())\\n\\nunique_event_names = menu.groupby('event')\\ns = unique_event_names.size()\\nsorted_unique_event_names = s.sort_values(ascending=False)\\nsorted_unique_event_names\\n\""
      ]
     },
     "execution_count": 92,
     "metadata": {},
     "output_type": "execute_result"
    },
    {
     "data": {
      "text/plain": [
       "\"\\nmenu.event.unique()\\n\\nlen(menu.event.unique())\\n\\nunique_event_names = menu.groupby('event')\\ns = unique_event_names.size()\\nsorted_unique_event_names = s.sort_values(ascending=False)\\nsorted_unique_event_names\\n\""
      ]
     },
     "execution_count": 92,
     "metadata": {},
     "output_type": "execute_result"
    },
    {
     "data": {
      "text/plain": [
       "\"\\nmenu.venue.unique()\\n\\nlen(menu.venue.unique())\\n\\nunique_venue_names = menu.groupby('venue')\\ns = unique_venue_names.size()\\nsorted_unique_venue_names = s.sort_values(ascending=False)\\nsorted_unique_venue_names\\n\""
      ]
     },
     "execution_count": 92,
     "metadata": {},
     "output_type": "execute_result"
    },
    {
     "data": {
      "text/plain": [
       "\"\\nmenu.venue.unique()\\n\\nlen(menu.venue.unique())\\n\\nunique_venue_names = menu.groupby('venue')\\ns = unique_venue_names.size()\\nsorted_unique_venue_names = s.sort_values(ascending=False)\\nsorted_unique_venue_names\\n\""
      ]
     },
     "execution_count": 92,
     "metadata": {},
     "output_type": "execute_result"
    },
    {
     "data": {
      "text/plain": [
       "\"\\n\\nmenu.place.unique()\\n\\nlen(menu.place.unique())\\n\\nunique_place_names = menu.groupby('place')\\ns = unique_place_names.size()\\nsorted_unique_place_names = s.sort_values(ascending=False)\\nsorted_unique_place_names\\n\""
      ]
     },
     "execution_count": 92,
     "metadata": {},
     "output_type": "execute_result"
    },
    {
     "data": {
      "text/plain": [
       "\"\\n\\nmenu.place.unique()\\n\\nlen(menu.place.unique())\\n\\nunique_place_names = menu.groupby('place')\\ns = unique_place_names.size()\\nsorted_unique_place_names = s.sort_values(ascending=False)\\nsorted_unique_place_names\\n\""
      ]
     },
     "execution_count": 92,
     "metadata": {},
     "output_type": "execute_result"
    },
    {
     "data": {
      "text/plain": [
       "\"\\nmenu.physical_description.unique()\\n\\nlen(menu.physical_description.unique())\\n\\nunique_physical_description_names = menu.groupby('physical_description')\\ns = unique_physical_description_names.size()\\nsorted_unique_physical_description_names = s.sort_values(ascending=False)\\nsorted_unique_physical_description_names\\n\""
      ]
     },
     "execution_count": 92,
     "metadata": {},
     "output_type": "execute_result"
    },
    {
     "data": {
      "text/plain": [
       "\"\\nmenu.physical_description.unique()\\n\\nlen(menu.physical_description.unique())\\n\\nunique_physical_description_names = menu.groupby('physical_description')\\ns = unique_physical_description_names.size()\\nsorted_unique_physical_description_names = s.sort_values(ascending=False)\\nsorted_unique_physical_description_names\\n\""
      ]
     },
     "execution_count": 92,
     "metadata": {},
     "output_type": "execute_result"
    },
    {
     "data": {
      "text/plain": [
       "\"\\nmenu.occasion.unique()\\n\\nlen(menu.occasion.unique())\\n\\nunique_occasion_names = menu.groupby('occasion')\\ns = unique_occasion_names.size()\\nsorted_unique_occasion_names = s.sort_values(ascending=False)\\nsorted_unique_occasion_names\\n\""
      ]
     },
     "execution_count": 92,
     "metadata": {},
     "output_type": "execute_result"
    },
    {
     "data": {
      "text/plain": [
       "\"\\nmenu.occasion.unique()\\n\\nlen(menu.occasion.unique())\\n\\nunique_occasion_names = menu.groupby('occasion')\\ns = unique_occasion_names.size()\\nsorted_unique_occasion_names = s.sort_values(ascending=False)\\nsorted_unique_occasion_names\\n\""
      ]
     },
     "execution_count": 92,
     "metadata": {},
     "output_type": "execute_result"
    },
    {
     "data": {
      "text/plain": [
       "\"\\nmenu.notes.unique()\\n\\nlen(menu.notes.unique())\\n\\nunique_notes_names = menu.groupby('notes')\\ns = unique_notes_names.size()\\nsorted_unique_notes_names = s.sort_values(ascending=False)\\nsorted_unique_notes_names\\n\""
      ]
     },
     "execution_count": 92,
     "metadata": {},
     "output_type": "execute_result"
    },
    {
     "data": {
      "text/plain": [
       "\"\\nmenu.notes.unique()\\n\\nlen(menu.notes.unique())\\n\\nunique_notes_names = menu.groupby('notes')\\ns = unique_notes_names.size()\\nsorted_unique_notes_names = s.sort_values(ascending=False)\\nsorted_unique_notes_names\\n\""
      ]
     },
     "execution_count": 92,
     "metadata": {},
     "output_type": "execute_result"
    },
    {
     "data": {
      "text/plain": [
       "\"\\nmenu.date.unique()\\n\\nlen(menu.date.unique())\\n\\nunique_date_names = menu.groupby('date')\\ns = unique_date_names.size()\\nsorted_unique_date_names = s.sort_values(ascending=False)\\nsorted_unique_date_names\\n\""
      ]
     },
     "execution_count": 92,
     "metadata": {},
     "output_type": "execute_result"
    },
    {
     "data": {
      "text/plain": [
       "\"\\nmenu.date.unique()\\n\\nlen(menu.date.unique())\\n\\nunique_date_names = menu.groupby('date')\\ns = unique_date_names.size()\\nsorted_unique_date_names = s.sort_values(ascending=False)\\nsorted_unique_date_names\\n\""
      ]
     },
     "execution_count": 92,
     "metadata": {},
     "output_type": "execute_result"
    },
    {
     "data": {
      "text/plain": [
       "\"\\nmenu.location.unique()\\n\\nlen(menu.location.unique())\\n\\nunique_location_names = menu.groupby('location')\\ns = unique_location_names.size()\\nsorted_unique_location_names = s.sort_values(ascending=False)\\nsorted_unique_location_names\\n\""
      ]
     },
     "execution_count": 92,
     "metadata": {},
     "output_type": "execute_result"
    },
    {
     "data": {
      "text/plain": [
       "\"\\nmenu.location.unique()\\n\\nlen(menu.location.unique())\\n\\nunique_location_names = menu.groupby('location')\\ns = unique_location_names.size()\\nsorted_unique_location_names = s.sort_values(ascending=False)\\nsorted_unique_location_names\\n\""
      ]
     },
     "execution_count": 92,
     "metadata": {},
     "output_type": "execute_result"
    },
    {
     "data": {
      "text/plain": [
       "\"\\nmenu.status.unique()\\n\\nlen(menu.status.unique())\\n\\nunique_status_names = menu.groupby('status')\\ns = unique_status_names.size()\\nsorted_unique_status_names = s.sort_values(ascending=False)\\nsorted_unique_status_names\\n\""
      ]
     },
     "execution_count": 92,
     "metadata": {},
     "output_type": "execute_result"
    },
    {
     "data": {
      "text/plain": [
       "\"\\nmenu.status.unique()\\n\\nlen(menu.status.unique())\\n\\nunique_status_names = menu.groupby('status')\\ns = unique_status_names.size()\\nsorted_unique_status_names = s.sort_values(ascending=False)\\nsorted_unique_status_names\\n\""
      ]
     },
     "execution_count": 92,
     "metadata": {},
     "output_type": "execute_result"
    },
    {
     "data": {
      "text/plain": [
       "\"\\nmenu.currency_symbol.unique()\\n\\nlen(menu.currency_symbol.unique())\\n\\nunique_currency_symbol_names = menu.groupby('currency_symbol')\\ns = unique_currency_symbol_names.size()\\nsorted_unique_currency_symbol_names = s.sort_values(ascending=False)\\nsorted_unique_currency_symbol_names\\n\""
      ]
     },
     "execution_count": 92,
     "metadata": {},
     "output_type": "execute_result"
    },
    {
     "data": {
      "text/plain": [
       "\"\\nmenu.currency_symbol.unique()\\n\\nlen(menu.currency_symbol.unique())\\n\\nunique_currency_symbol_names = menu.groupby('currency_symbol')\\ns = unique_currency_symbol_names.size()\\nsorted_unique_currency_symbol_names = s.sort_values(ascending=False)\\nsorted_unique_currency_symbol_names\\n\""
      ]
     },
     "execution_count": 92,
     "metadata": {},
     "output_type": "execute_result"
    },
    {
     "name": "stdout",
     "output_type": "stream",
     "text": [
      "<class 'pandas.core.frame.DataFrame'>\n",
      "RangeIndex: 423397 entries, 0 to 423396\n",
      "Data columns (total 9 columns):\n",
      "id                423397 non-null int64\n",
      "name              423397 non-null object\n",
      "description       423397 non-null object\n",
      "menus_appeared    423397 non-null int64\n",
      "times_appeared    423397 non-null int64\n",
      "first_appeared    423397 non-null int64\n",
      "last_appeared     423397 non-null int64\n",
      "lowest_price      423397 non-null object\n",
      "highest_price     423397 non-null object\n",
      "dtypes: int64(5), object(4)\n",
      "memory usage: 29.1+ MB\n"
     ]
    },
    {
     "data": {
      "text/plain": [
       "\"\\ndish.name.unique()\\n\\nlen(dish.name.unique())\\n\\nunique_dish_names = dish.groupby('name')\\ns = unique_dish_names.size()\\nsorted_unique_dish_names = s.sort_values(ascending=False)\\nsorted_unique_dish_names\\n\""
      ]
     },
     "execution_count": 92,
     "metadata": {},
     "output_type": "execute_result"
    },
    {
     "data": {
      "text/plain": [
       "\"\\ndish.name.unique()\\n\\nlen(dish.name.unique())\\n\\nunique_dish_names = dish.groupby('name')\\ns = unique_dish_names.size()\\nsorted_unique_dish_names = s.sort_values(ascending=False)\\nsorted_unique_dish_names\\n\""
      ]
     },
     "execution_count": 92,
     "metadata": {},
     "output_type": "execute_result"
    }
   ],
   "source": [
    "import pandas as pd\n",
    "import numpy as np\n",
    "import matplotlib.pyplot as plt\n",
    "\n",
    "# set Jupyter to display ALL output from a cell (not just last output)\n",
    "from IPython.core.interactiveshell import InteractiveShell\n",
    "InteractiveShell.ast_node_interactivity = \"all\" \n",
    "\n",
    "\n",
    "# set pandas and numpy options to make print format nicer\n",
    "pd.set_option(\"display.width\",110)\n",
    "pd.set_option(\"display.max_columns\",50)\n",
    "pd.set_option('display.max_colwidth', 200)\n",
    "pd.set_option('display.max_rows', 500)\n",
    "\n",
    "#Function to remove space\n",
    "\n",
    "def rm_whitespace(x):\n",
    "    \"\"\"\n",
    "    1) remove leading and trailing whitespace\n",
    "    2) remove extra spaces between words\n",
    "    \"\"\"\n",
    "    \n",
    "    tokens = x.strip().split()\n",
    "    result = ' '.join(filter(None, tokens))\n",
    "    \n",
    "    return result\n",
    "\n",
    "#Function to remove space\n",
    "\n",
    "def change_titlecase(x):\n",
    "    \"\"\"\n",
    "    1) Make fields title case\n",
    "    \"\"\"\n",
    "    \n",
    "    return x.title()\n",
    "    \n",
    "# Menu Data Clean up\n",
    "\n",
    "#Step1:\n",
    "#Have a Glance at data to Understand it\n",
    "menu = pd.read_csv(\"..\\\\Rawdata\\\\Menu.csv\", keep_default_na=False)\n",
    "menu.info()\n",
    "\n",
    "#Step2: \n",
    "#Clean up specific columns\n",
    "\n",
    "# Step2A: \n",
    "#Column: Name\n",
    "\n",
    "# Analyze data in column\n",
    "\n",
    "\"\"\"\n",
    "menu.name.unique()\n",
    "\n",
    "len(menu.name.unique())\n",
    "\n",
    "unique_Menu_names = menu.groupby('name')\n",
    "s = unique_Menu_names.size()\n",
    "sorted_unique_Menu_names = s.sort_values(ascending=False)\n",
    "sorted_unique_Menu_names\n",
    "\"\"\"\n",
    "\n",
    "\n",
    "\n",
    "menu['name'] = menu['name'].map(rm_whitespace)\n",
    "menu['name'] = menu['name'].map(change_titlecase)\n",
    "\n",
    "menu.loc[menu.name.str.lower().str.contains('not given').fillna(False), 'name'] = ''\n",
    "\n",
    "# Analyze again to check improvement\n",
    "\n",
    "\"\"\"\n",
    "menu.name.unique()\n",
    "\n",
    "len(menu.name.unique())\n",
    "\n",
    "unique_Menu_names = menu.groupby('name')\n",
    "s = unique_Menu_names.size()\n",
    "sorted_unique_Menu_names = s.sort_values(ascending=False)\n",
    "sorted_unique_Menu_names\n",
    "\"\"\"\n",
    "\n",
    "# Step2B: \n",
    "#Column: Sponsor\n",
    "\n",
    "# Analyze data in column\n",
    "\"\"\"\n",
    "menu.sponsor.unique()\n",
    "\n",
    "len(menu.sponsor.unique())\n",
    "\n",
    "unique_sponsor_names = menu.groupby('sponsor')\n",
    "s = unique_sponsor_names.size()\n",
    "sorted_unique_sponsor_names = s.sort_values(ascending=False)\n",
    "sorted_unique_sponsor_names\n",
    "\"\"\"\n",
    "\n",
    "menu['sponsor'] = menu['sponsor'].map(rm_whitespace)\n",
    "menu['sponsor'] = menu['sponsor'].map(change_titlecase)\n",
    "\n",
    "\n",
    "menu.loc[menu.sponsor.str.lower().str.contains('not given').fillna(False), 'sponsor'] = ''\n",
    "menu.loc[menu.sponsor.str.lower().str.contains('unknown').fillna(False), 'sponsor'] = ''\n",
    "#replacements = {'?':'','\\\\':'','\"':'','(':'',')':'','[':'',']':''}\n",
    "#menu['sponsor'] = menu.sponsor.str.strip().replace(replacements)\n",
    "menu['sponsor'] = menu.sponsor.str.replace('?','')\n",
    "menu['sponsor'] = menu.sponsor.str.replace('\\\\','')\n",
    "menu['sponsor'] = menu.sponsor.str.replace('\"','')\n",
    "menu['sponsor'] = menu.sponsor.str.replace('(','')\n",
    "menu['sponsor'] = menu.sponsor.str.replace(')','')\n",
    "menu['sponsor'] = menu.sponsor.str.replace('[','')\n",
    "menu['sponsor'] = menu.sponsor.str.replace(']','')\n",
    "\n",
    "\n",
    "# Analyze data in column\n",
    "\"\"\"\n",
    "menu.sponsor.unique()\n",
    "\n",
    "len(menu.sponsor.unique())\n",
    "\n",
    "unique_sponsor_names = menu.groupby('sponsor')\n",
    "s = unique_sponsor_names.size()\n",
    "sorted_unique_sponsor_names = s.sort_values(ascending=False)\n",
    "sorted_unique_sponsor_names\n",
    "\"\"\"\n",
    "\n",
    "\n",
    "# Step2C: \n",
    "#Column: Event\n",
    "\n",
    "# Analyze data in column\n",
    "\"\"\"\n",
    "menu.event.unique()\n",
    "\n",
    "len(menu.event.unique())\n",
    "\n",
    "unique_event_names = menu.groupby('event')\n",
    "s = unique_event_names.size()\n",
    "sorted_unique_event_names = s.sort_values(ascending=False)\n",
    "sorted_unique_event_names\n",
    "\"\"\"\n",
    "\n",
    "menu['event'] = menu['event'].map(rm_whitespace)\n",
    "menu['event'] = menu['event'].map(change_titlecase)\n",
    "\n",
    "\n",
    "menu['event'] = menu.event.str.replace('?','')\n",
    "menu['event'] = menu.event.str.replace('(','')\n",
    "menu['event'] = menu.event.str.replace(')','')\n",
    "menu['event'] = menu.event.str.replace('[','')\n",
    "menu['event'] = menu.event.str.replace(']','')\n",
    "# Analyze data in column\n",
    "\"\"\"\n",
    "menu.event.unique()\n",
    "\n",
    "len(menu.event.unique())\n",
    "\n",
    "unique_event_names = menu.groupby('event')\n",
    "s = unique_event_names.size()\n",
    "sorted_unique_event_names = s.sort_values(ascending=False)\n",
    "sorted_unique_event_names\n",
    "\"\"\"\n",
    "# Step2D: \n",
    "#Column: Venue\n",
    "\n",
    "# Analyze data in column\n",
    "\"\"\"\n",
    "menu.venue.unique()\n",
    "\n",
    "len(menu.venue.unique())\n",
    "\n",
    "unique_venue_names = menu.groupby('venue')\n",
    "s = unique_venue_names.size()\n",
    "sorted_unique_venue_names = s.sort_values(ascending=False)\n",
    "sorted_unique_venue_names\n",
    "\"\"\"\n",
    "\n",
    "menu['venue'] = menu['venue'].map(rm_whitespace)\n",
    "menu['venue'] = menu['venue'].map(change_titlecase)\n",
    "\n",
    "menu.loc[menu.venue.str.lower().str.contains('null').fillna(False), 'venue'] = ''\n",
    "menu.loc[menu.venue.str.lower().str.contains('unknown').fillna(False), 'venue'] = ''\n",
    "\n",
    "\n",
    "menu['venue'] = menu.venue.str.replace('?','')\n",
    "menu['venue'] = menu.venue.str.replace('(','')\n",
    "menu['venue'] = menu.venue.str.replace(')','')\n",
    "menu['venue'] = menu.venue.str.replace('[','')\n",
    "menu['venue'] = menu.venue.str.replace(']','')\n",
    "menu['venue'] = menu.venue.str.replace(';','')\n",
    "\n",
    "# Analyze data in column\n",
    "\"\"\"\n",
    "menu.venue.unique()\n",
    "\n",
    "len(menu.venue.unique())\n",
    "\n",
    "unique_venue_names = menu.groupby('venue')\n",
    "s = unique_venue_names.size()\n",
    "sorted_unique_venue_names = s.sort_values(ascending=False)\n",
    "sorted_unique_venue_names\n",
    "\"\"\"\n",
    "\n",
    "# Step2E: \n",
    "#Column: Place\n",
    "\n",
    "# Analyze data in column\n",
    "\"\"\"\n",
    "\n",
    "menu.place.unique()\n",
    "\n",
    "len(menu.place.unique())\n",
    "\n",
    "unique_place_names = menu.groupby('place')\n",
    "s = unique_place_names.size()\n",
    "sorted_unique_place_names = s.sort_values(ascending=False)\n",
    "sorted_unique_place_names\n",
    "\"\"\"\n",
    "\n",
    "\n",
    "menu['place'] = menu['place'].map(rm_whitespace)\n",
    "menu['place'] = menu['place'].map(change_titlecase)\n",
    "\n",
    "menu.loc[menu.place.str.lower().str.contains('null').fillna(False), 'place'] = ''\n",
    "menu.loc[menu.place.str.lower().str.contains('unknown').fillna(False), 'place'] = ''\n",
    "\n",
    "\n",
    "menu['place'] = menu.place.str.replace('?','')\n",
    "menu['place'] = menu.place.str.replace('(','')\n",
    "menu['place'] = menu.place.str.replace(')','')\n",
    "menu['place'] = menu.place.str.replace('[','')\n",
    "menu['place'] = menu.place.str.replace(']','')\n",
    "menu['place'] = menu.place.str.replace(';','')\n",
    "\n",
    "# Analyze data in column\n",
    "\"\"\"\n",
    "\n",
    "menu.place.unique()\n",
    "\n",
    "len(menu.place.unique())\n",
    "\n",
    "unique_place_names = menu.groupby('place')\n",
    "s = unique_place_names.size()\n",
    "sorted_unique_place_names = s.sort_values(ascending=False)\n",
    "sorted_unique_place_names\n",
    "\"\"\"\n",
    "\n",
    "# Step2F: \n",
    "#Column: physical_description\n",
    "\n",
    "# Analyze data in column\n",
    "\"\"\"\n",
    "menu.physical_description.unique()\n",
    "\n",
    "len(menu.physical_description.unique())\n",
    "\n",
    "unique_physical_description_names = menu.groupby('physical_description')\n",
    "s = unique_physical_description_names.size()\n",
    "sorted_unique_physical_description_names = s.sort_values(ascending=False)\n",
    "sorted_unique_physical_description_names\n",
    "\"\"\"\n",
    "\n",
    "menu['physical_description'] = menu['physical_description'].map(rm_whitespace)\n",
    "menu['physical_description'] = menu['physical_description'].map(change_titlecase)\n",
    "\n",
    "#menu.loc[menu.physical_description.str.lower().str.contains('null').fillna(False), 'physical_description'] = ''\n",
    "#menu.loc[menu.physical_description.str.lower().str.contains('unknown').fillna(False), 'physical_description'] = ''\n",
    "\n",
    "\n",
    "menu['physical_description'] = menu.physical_description.str.replace('?','')\n",
    "menu['physical_description'] = menu.physical_description.str.replace('(','')\n",
    "menu['physical_description'] = menu.physical_description.str.replace(')','')\n",
    "menu['physical_description'] = menu.physical_description.str.replace('[','')\n",
    "menu['physical_description'] = menu.physical_description.str.replace(']','')\n",
    "#menu['physical_description'] = menu.physical_description.str.replace(';','')\n",
    "\n",
    "# Analyze data in column\n",
    "\"\"\"\n",
    "menu.physical_description.unique()\n",
    "\n",
    "len(menu.physical_description.unique())\n",
    "\n",
    "unique_physical_description_names = menu.groupby('physical_description')\n",
    "s = unique_physical_description_names.size()\n",
    "sorted_unique_physical_description_names = s.sort_values(ascending=False)\n",
    "sorted_unique_physical_description_names\n",
    "\"\"\"\n",
    "\n",
    "# Step2G: \n",
    "#Column: occasion\n",
    "\n",
    "# Analyze data in column\n",
    "\"\"\"\n",
    "menu.occasion.unique()\n",
    "\n",
    "len(menu.occasion.unique())\n",
    "\n",
    "unique_occasion_names = menu.groupby('occasion')\n",
    "s = unique_occasion_names.size()\n",
    "sorted_unique_occasion_names = s.sort_values(ascending=False)\n",
    "sorted_unique_occasion_names\n",
    "\"\"\"\n",
    "\n",
    "menu['occasion'] = menu['occasion'].map(rm_whitespace)\n",
    "menu['occasion'] = menu['occasion'].map(change_titlecase)\n",
    "\n",
    "menu.loc[menu.occasion.str.lower().str.contains('null').fillna(False), 'occasion'] = ''\n",
    "menu.loc[menu.occasion.str.lower().str.contains('unknown').fillna(False), 'occasion'] = ''\n",
    "\n",
    "\n",
    "menu['occasion'] = menu.occasion.str.replace('?','')\n",
    "menu['occasion'] = menu.occasion.str.replace('(','')\n",
    "menu['occasion'] = menu.occasion.str.replace(')','')\n",
    "menu['occasion'] = menu.occasion.str.replace('[','')\n",
    "menu['occasion'] = menu.occasion.str.replace(']','')\n",
    "menu['occasion'] = menu.occasion.str.replace(';','')\n",
    "\n",
    "# Analyze data in column\n",
    "\"\"\"\n",
    "menu.occasion.unique()\n",
    "\n",
    "len(menu.occasion.unique())\n",
    "\n",
    "unique_occasion_names = menu.groupby('occasion')\n",
    "s = unique_occasion_names.size()\n",
    "sorted_unique_occasion_names = s.sort_values(ascending=False)\n",
    "sorted_unique_occasion_names\n",
    "\"\"\"\n",
    "\n",
    "# Step2H: \n",
    "#Column: notes\n",
    "\n",
    "# Analyze data in column\n",
    "\"\"\"\n",
    "menu.notes.unique()\n",
    "\n",
    "len(menu.notes.unique())\n",
    "\n",
    "unique_notes_names = menu.groupby('notes')\n",
    "s = unique_notes_names.size()\n",
    "sorted_unique_notes_names = s.sort_values(ascending=False)\n",
    "sorted_unique_notes_names\n",
    "\"\"\"\n",
    "\n",
    "menu['notes'] = menu['notes'].map(rm_whitespace)\n",
    "menu['notes'] = menu['notes'].map(change_titlecase)\n",
    "\n",
    "menu.loc[menu.notes.str.lower().str.contains('null').fillna(False), 'notes'] = ''\n",
    "menu.loc[menu.notes.str.lower().str.contains('unknown').fillna(False), 'notes'] = ''\n",
    "\n",
    "\n",
    "menu['notes'] = menu.notes.str.replace('?','')\n",
    "menu['notes'] = menu.notes.str.replace(';','')\n",
    "\n",
    "# Analyze data in column\n",
    "\"\"\"\n",
    "menu.notes.unique()\n",
    "\n",
    "len(menu.notes.unique())\n",
    "\n",
    "unique_notes_names = menu.groupby('notes')\n",
    "s = unique_notes_names.size()\n",
    "sorted_unique_notes_names = s.sort_values(ascending=False)\n",
    "sorted_unique_notes_names\n",
    "\"\"\"\n",
    "\n",
    "# Step2I: \n",
    "#Column: date\n",
    "\n",
    "# Analyze data in column\n",
    "\"\"\"\n",
    "menu.date.unique()\n",
    "\n",
    "len(menu.date.unique())\n",
    "\n",
    "unique_date_names = menu.groupby('date')\n",
    "s = unique_date_names.size()\n",
    "sorted_unique_date_names = s.sort_values(ascending=False)\n",
    "sorted_unique_date_names\n",
    "\"\"\"\n",
    "\n",
    "menu.loc[(menu.date>'2018-11-25') | (menu.date.isnull()), 'date'] = ''\n",
    "\n",
    "# Analyze data in column\n",
    "\"\"\"\n",
    "menu.date.unique()\n",
    "\n",
    "len(menu.date.unique())\n",
    "\n",
    "unique_date_names = menu.groupby('date')\n",
    "s = unique_date_names.size()\n",
    "sorted_unique_date_names = s.sort_values(ascending=False)\n",
    "sorted_unique_date_names\n",
    "\"\"\"\n",
    "\n",
    "# Step2J: \n",
    "#Column: location\n",
    "\n",
    "# Analyze data in column\n",
    "\"\"\"\n",
    "menu.location.unique()\n",
    "\n",
    "len(menu.location.unique())\n",
    "\n",
    "unique_location_names = menu.groupby('location')\n",
    "s = unique_location_names.size()\n",
    "sorted_unique_location_names = s.sort_values(ascending=False)\n",
    "sorted_unique_location_names\n",
    "\"\"\"\n",
    "\n",
    "menu['location'] = menu['location'].map(rm_whitespace)\n",
    "menu['location'] = menu['location'].map(change_titlecase)\n",
    "\n",
    "menu.loc[menu.location.str.lower().str.contains('null').fillna(False), 'location'] = ''\n",
    "menu.loc[menu.location.str.lower().str.contains('unknown').fillna(False), 'location'] = ''\n",
    "\n",
    "\n",
    "menu['location'] = menu.location.str.replace('?','')\n",
    "menu['location'] = menu.location.str.replace('(','')\n",
    "menu['location'] = menu.location.str.replace(')','')\n",
    "menu['location'] = menu.location.str.replace('[','')\n",
    "menu['location'] = menu.location.str.replace(']','')\n",
    "menu['location'] = menu.location.str.replace(';','')\n",
    "menu['location'] = menu.location.str.replace('\\\\','')\n",
    "menu['location'] = menu.location.str.replace('\"','')\n",
    "\n",
    "# Analyze data in column\n",
    "\"\"\"\n",
    "menu.location.unique()\n",
    "\n",
    "len(menu.location.unique())\n",
    "\n",
    "unique_location_names = menu.groupby('location')\n",
    "s = unique_location_names.size()\n",
    "sorted_unique_location_names = s.sort_values(ascending=False)\n",
    "sorted_unique_location_names\n",
    "\"\"\"\n",
    "\n",
    "# Step2K: \n",
    "#Column: status\n",
    "\n",
    "# Analyze data in column\n",
    "\"\"\"\n",
    "menu.status.unique()\n",
    "\n",
    "len(menu.status.unique())\n",
    "\n",
    "unique_status_names = menu.groupby('status')\n",
    "s = unique_status_names.size()\n",
    "sorted_unique_status_names = s.sort_values(ascending=False)\n",
    "sorted_unique_status_names\n",
    "\"\"\"\n",
    "\n",
    "menu['status'] = menu['status'].map(change_titlecase)\n",
    "\n",
    "\n",
    "# Analyze data in column\n",
    "\"\"\"\n",
    "menu.status.unique()\n",
    "\n",
    "len(menu.status.unique())\n",
    "\n",
    "unique_status_names = menu.groupby('status')\n",
    "s = unique_status_names.size()\n",
    "sorted_unique_status_names = s.sort_values(ascending=False)\n",
    "sorted_unique_status_names\n",
    "\"\"\"\n",
    "\n",
    "# Step2L: \n",
    "#Column: currency_symbol\n",
    "\n",
    "# Analyze data in column\n",
    "\"\"\"\n",
    "menu.currency_symbol.unique()\n",
    "\n",
    "len(menu.currency_symbol.unique())\n",
    "\n",
    "unique_currency_symbol_names = menu.groupby('currency_symbol')\n",
    "s = unique_currency_symbol_names.size()\n",
    "sorted_unique_currency_symbol_names = s.sort_values(ascending=False)\n",
    "sorted_unique_currency_symbol_names\n",
    "\"\"\"\n",
    "\n",
    "menu['currency_symbol'] = menu['currency_symbol'].map(change_titlecase)\n",
    "\n",
    "\n",
    "# Analyze data in column\n",
    "\"\"\"\n",
    "menu.currency_symbol.unique()\n",
    "\n",
    "len(menu.currency_symbol.unique())\n",
    "\n",
    "unique_currency_symbol_names = menu.groupby('currency_symbol')\n",
    "s = unique_currency_symbol_names.size()\n",
    "sorted_unique_currency_symbol_names = s.sort_values(ascending=False)\n",
    "sorted_unique_currency_symbol_names\n",
    "\"\"\"\n",
    "\n",
    "# Rest all columns either have valid data or are blank\n",
    "\n",
    "#Step3:\n",
    "# Create New File with clean data for menu\n",
    "\n",
    "menu.to_csv('Clean_Data\\\\Menu-clean.csv', index=False)\n",
    "\n",
    "\n",
    "#Step 4\n",
    "# Analyse Dish.csv\n",
    "\n",
    "dish = pd.read_csv(\"..\\\\Rawdata\\\\Dish.csv\", keep_default_na=False)\n",
    "dish.info()\n",
    "\n",
    "#Step5:\n",
    "# Analyze data in column name\n",
    "\"\"\"\n",
    "dish.name.unique()\n",
    "\n",
    "len(dish.name.unique())\n",
    "\n",
    "unique_dish_names = dish.groupby('name')\n",
    "s = unique_dish_names.size()\n",
    "sorted_unique_dish_names = s.sort_values(ascending=False)\n",
    "sorted_unique_dish_names\n",
    "\"\"\"\n",
    "\n",
    "dish['name'] = dish['name'].map(rm_whitespace)\n",
    "dish['name'] = dish['name'].map(change_titlecase)\n",
    "\n",
    "\n",
    "# Analyze data in column name\n",
    "\"\"\"\n",
    "dish.name.unique()\n",
    "\n",
    "len(dish.name.unique())\n",
    "\n",
    "unique_dish_names = dish.groupby('name')\n",
    "s = unique_dish_names.size()\n",
    "sorted_unique_dish_names = s.sort_values(ascending=False)\n",
    "sorted_unique_dish_names\n",
    "\"\"\"\n",
    "\n",
    "#Step6:\n",
    "# Create New File with clean data for dish\n",
    "\n",
    "dish.to_csv('Clean_Data\\\\Dish-clean.csv', index=False)\n"
   ]
  },
  {
   "cell_type": "code",
   "execution_count": null,
   "metadata": {},
   "outputs": [],
   "source": [
    "\n"
   ]
  },
  {
   "cell_type": "code",
   "execution_count": null,
   "metadata": {},
   "outputs": [],
   "source": []
  }
 ],
 "metadata": {
  "kernelspec": {
   "display_name": "Python 3",
   "language": "python",
   "name": "python3"
  },
  "language_info": {
   "codemirror_mode": {
    "name": "ipython",
    "version": 3
   },
   "file_extension": ".py",
   "mimetype": "text/x-python",
   "name": "python",
   "nbconvert_exporter": "python",
   "pygments_lexer": "ipython3",
   "version": "3.6.5"
  }
 },
 "nbformat": 4,
 "nbformat_minor": 2
}
